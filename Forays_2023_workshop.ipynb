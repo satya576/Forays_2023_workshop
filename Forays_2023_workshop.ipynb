{
 "cells": [
  {
   "attachments": {},
   "cell_type": "markdown",
   "metadata": {},
   "source": [
    "## Single Neuron (Perceptron)"
   ]
  },
  {
   "cell_type": "code",
   "execution_count": 20,
   "metadata": {},
   "outputs": [],
   "source": [
    "from tkinter import*\n",
    "import numpy as np\n",
    "import random\n",
    "import time\n",
    "\n",
    "class Neuron:\n",
    "    def __init__(self):\n",
    "        self.weights = [0,0]\n",
    "        for i in range(len(self.weights)):\n",
    "            self.weights[i] =  np.random.uniform(0,1)\n",
    "\n",
    "    def estimate(self,inputs):\n",
    "        sum = 0\n",
    "        for i in range(len(self.weights)):\n",
    "            sum = sum + inputs[i]*self.weights[i]\n",
    "        output = np.sign(sum)  ## f(x,y) = sign(x1*w1 + y1*w2) = -1 or +1\n",
    "        return output\n",
    "\n",
    "    def train(self, inputs, target):\n",
    "        est = self.estimate(inputs)\n",
    "        error = target - est\n",
    "        for i in range(len(self.weights)):\n",
    "            self.weights[i] += error*inputs[i]*0.1\n",
    "    \n",
    "    def estimate_y(self,x): # estimate line with current weights\n",
    "        return -(self.weights[0] / self.weights[1])*x"
   ]
  },
  {
   "cell_type": "code",
   "execution_count": 21,
   "metadata": {},
   "outputs": [],
   "source": [
    "class Point:\n",
    "    def __init__(self):\n",
    "        self.x = np.random.uniform(0,700)\n",
    "        self.y = np.random.uniform(0,700)\n",
    "        self.label = 0\n",
    "        if self.x >= self.y:\n",
    "            self.label = 1\n",
    "        else:\n",
    "            self.label = -1"
   ]
  },
  {
   "cell_type": "code",
   "execution_count": 22,
   "metadata": {},
   "outputs": [
    {
     "name": "stdout",
     "output_type": "stream",
     "text": [
      "Initial Weights:  [0.6823995381175365, 0.8662482708942432]\n",
      "Mouse Clicked!\n",
      "Weights updated :  [213.74453609618098, -174.81256232621706]\n"
     ]
    }
   ],
   "source": [
    "# setup\n",
    "def callback(event):\n",
    "    print(\"Mouse Clicked!\")\n",
    "    for pt in points:\n",
    "        inputs = [pt.x, pt.y]\n",
    "        Nr.train(inputs, pt.label)\n",
    "        est = Nr.estimate(inputs)\n",
    "        if est == pt.label:\n",
    "            canvas.create_oval(pt.x+3, pt.y+3,pt.x+9, pt.y+9, fill=\"green\")\n",
    "        else:\n",
    "            canvas.create_oval(pt.x+3, pt.y+3, pt.x+9, pt.y+9, fill=\"red\")\n",
    "        # canvas.after(5)\n",
    "        canvas.update()\n",
    "\n",
    "        canvas.delete(\"line\")\n",
    "        canvas.create_line(10, Nr.estimate_y(10), 700, Nr.estimate_y(700), width=3,tags=\"line\")\n",
    "    #print(\"Finished updation!\")\n",
    "    print(\"Weights updated : \", Nr.weights)\n",
    "\n",
    "\n",
    "# points = []\n",
    "# for i in range(100):\n",
    "#     points.append(Point())\n",
    "# np.save('points_1', points)\n",
    "\n",
    "## load data points from the file\n",
    "points = np.load('points_1.npy', allow_pickle=True)\n",
    "Nr = Neuron()\n",
    "print(\"Initial Weights: \", Nr.weights)\n",
    "window = Tk()\n",
    "window.title(\"Forays Workshop\")\n",
    "canvas = Canvas(window, width=700, height=700, bg=\"white\")\n",
    "canvas.pack()\n",
    "frame = Frame(window)\n",
    "frame.pack()\n",
    "# canvas.create_line(0,0,700,700, tags=\"line\")\n",
    "\n",
    "for pt in points:\n",
    "    if pt.label == -1:\n",
    "        canvas.create_oval(pt.x, pt.y,pt.x+12, pt.y+12, fill=\"skyblue\")\n",
    "    else:\n",
    "        canvas.create_oval(pt.x, pt.y,pt.x+12, pt.y+12, fill=\"orange\")\n",
    "    #canvas.after(10)\n",
    "    canvas.update()\n",
    "# for i in range(20):\n",
    "#     for pt in points:\n",
    "#         inputs = [pt.x, pt.y]\n",
    "#         Nr.train(inputs, pt.label)\n",
    "#         est = Nr.estimate(inputs)\n",
    "#         if est == pt.label:\n",
    "#             canvas.create_oval(pt.x+3, pt.y+3,pt.x+9, pt.y+9, fill=\"green\")\n",
    "#         else:\n",
    "#             canvas.create_oval(pt.x+3, pt.y+3, pt.x+9, pt.y+9, fill=\"red\")\n",
    "#         # canvas.after(5)\n",
    "#         canvas.update()\n",
    "\n",
    "#         canvas.delete(\"line\")\n",
    "#         canvas.create_line(10, Nr.estimate_y(10), 700, Nr.estimate_y(700), width=3,tags=\"line\")\n",
    "#         #print(\"Finished updation!\")\n",
    "#     print(\"Pass-\",i,\": Weights updated : \", Nr.weights)\n",
    "\n",
    "canvas.bind(\"<Button-1>\", callback)\n",
    "window.mainloop()\n"
   ]
  },
  {
   "attachments": {},
   "cell_type": "markdown",
   "metadata": {},
   "source": [
    "## Single Neuron Perceptron with bias"
   ]
  },
  {
   "cell_type": "code",
   "execution_count": 23,
   "metadata": {},
   "outputs": [],
   "source": [
    "from tkinter import*\n",
    "import numpy as np\n",
    "import random\n",
    "import time\n",
    "\n",
    "class Neuron:\n",
    "    def __init__(self):\n",
    "        self.weights = [0,0,0]\n",
    "        for i in range(len(self.weights)):\n",
    "            self.weights[i] =  np.random.uniform(-1,1)\n",
    "\n",
    "    def estimate(self,inputs):\n",
    "        sum = 0\n",
    "        for i in range(len(self.weights)):\n",
    "            sum = sum + inputs[i]*self.weights[i]\n",
    "        output = np.sign(sum)  ## f(x,y) = sign(x1*w1 + y1*w2) = -1 or +1\n",
    "        return output\n",
    "\n",
    "    def train(self, inputs, target):\n",
    "        est = self.estimate(inputs)\n",
    "        error = target - est\n",
    "        for i in range(len(self.weights)):\n",
    "            self.weights[i] += error*inputs[i]*0.01\n",
    "    \n",
    "    def estimate_y(self,x): # estimate line with current weights\n",
    "        return -(self.weights[0] / self.weights[1])*x - (self.weights[2] / self.weights[1])"
   ]
  },
  {
   "cell_type": "code",
   "execution_count": 24,
   "metadata": {},
   "outputs": [],
   "source": [
    "class Point:\n",
    "    def __init__(self, *arg):\n",
    "        if len(arg) == 0:\n",
    "            self.x = np.random.uniform(-1,1) #np.random.uniform(0,700)\n",
    "            self.y = np.random.uniform(-1,1) #np.random.uniform(0,700)\n",
    "            self.label = 0\n",
    "            lineY = f(self.x)\n",
    "            if self.y > lineY:\n",
    "                self.label = 1\n",
    "            else:\n",
    "                self.label = -1\n",
    "        elif len(arg) == 2:\n",
    "            self.x = arg[0]\n",
    "            self.y = arg[1]\n",
    "            self.label = 0\n",
    "            if self.x >= self.y:\n",
    "                self.label = 1\n",
    "            else:\n",
    "                self.label = -1\n",
    "    def pixelX(self):\n",
    "        return np.interp(self.x, [-1,1], [0, 700])\n",
    "\n",
    "    def pixelY(self):\n",
    "        return np.interp(self.y, [-1,1], [700, 0])\n",
    "    "
   ]
  },
  {
   "cell_type": "code",
   "execution_count": 25,
   "metadata": {},
   "outputs": [
    {
     "name": "stdout",
     "output_type": "stream",
     "text": [
      "Initial Weights:  [0.4251434791191797, 0.22527490756870594, 0.33604068096078943]\n",
      "Pass- 1 : Weights updated :  [-0.11606477571324118, 0.37324453197711244, 0.0760406809607894]\n"
     ]
    },
    {
     "ename": "TclError",
     "evalue": "invalid command name \".!canvas\"",
     "output_type": "error",
     "traceback": [
      "\u001b[1;31m---------------------------------------------------------------------------\u001b[0m",
      "\u001b[1;31mTclError\u001b[0m                                  Traceback (most recent call last)",
      "\u001b[1;32mh:\\My Drive\\Data_analysis_MA5755\\Forays_2023_workshop\\Forays_2023_workshop.ipynb Cell 8\u001b[0m in \u001b[0;36m<cell line: 33>\u001b[1;34m()\u001b[0m\n\u001b[0;32m     <a href='vscode-notebook-cell:/h%3A/My%20Drive/Data_analysis_MA5755/Forays_2023_workshop/Forays_2023_workshop.ipynb#X12sZmlsZQ%3D%3D?line=46'>47</a>\u001b[0m canvas\u001b[39m.\u001b[39mafter(\u001b[39m5\u001b[39m)\n\u001b[0;32m     <a href='vscode-notebook-cell:/h%3A/My%20Drive/Data_analysis_MA5755/Forays_2023_workshop/Forays_2023_workshop.ipynb#X12sZmlsZQ%3D%3D?line=47'>48</a>\u001b[0m canvas\u001b[39m.\u001b[39mupdate()\n\u001b[1;32m---> <a href='vscode-notebook-cell:/h%3A/My%20Drive/Data_analysis_MA5755/Forays_2023_workshop/Forays_2023_workshop.ipynb#X12sZmlsZQ%3D%3D?line=48'>49</a>\u001b[0m canvas\u001b[39m.\u001b[39;49mdelete(\u001b[39m\"\u001b[39;49m\u001b[39mline\u001b[39;49m\u001b[39m\"\u001b[39;49m)\n\u001b[0;32m     <a href='vscode-notebook-cell:/h%3A/My%20Drive/Data_analysis_MA5755/Forays_2023_workshop/Forays_2023_workshop.ipynb#X12sZmlsZQ%3D%3D?line=49'>50</a>\u001b[0m p3 \u001b[39m=\u001b[39m Point(\u001b[39m-\u001b[39m\u001b[39m1\u001b[39m, n1\u001b[39m.\u001b[39mestimate_y(\u001b[39m-\u001b[39m\u001b[39m1\u001b[39m))\n\u001b[0;32m     <a href='vscode-notebook-cell:/h%3A/My%20Drive/Data_analysis_MA5755/Forays_2023_workshop/Forays_2023_workshop.ipynb#X12sZmlsZQ%3D%3D?line=50'>51</a>\u001b[0m p4 \u001b[39m=\u001b[39m Point(\u001b[39m1\u001b[39m, n1\u001b[39m.\u001b[39mestimate_y(\u001b[39m1\u001b[39m))\n",
      "File \u001b[1;32mc:\\Users\\satya\\anaconda3\\lib\\tkinter\\__init__.py:2818\u001b[0m, in \u001b[0;36mCanvas.delete\u001b[1;34m(self, *args)\u001b[0m\n\u001b[0;32m   2816\u001b[0m \u001b[39mdef\u001b[39;00m \u001b[39mdelete\u001b[39m(\u001b[39mself\u001b[39m, \u001b[39m*\u001b[39margs):\n\u001b[0;32m   2817\u001b[0m     \u001b[39m\"\"\"Delete items identified by all tag or ids contained in ARGS.\"\"\"\u001b[39;00m\n\u001b[1;32m-> 2818\u001b[0m     \u001b[39mself\u001b[39;49m\u001b[39m.\u001b[39;49mtk\u001b[39m.\u001b[39;49mcall((\u001b[39mself\u001b[39;49m\u001b[39m.\u001b[39;49m_w, \u001b[39m'\u001b[39;49m\u001b[39mdelete\u001b[39;49m\u001b[39m'\u001b[39;49m) \u001b[39m+\u001b[39;49m args)\n",
      "\u001b[1;31mTclError\u001b[0m: invalid command name \".!canvas\""
     ]
    }
   ],
   "source": [
    "def f(x):\n",
    "    return 0.3*x - 0.2\n",
    "\n",
    "points = []\n",
    "for i in range(500):\n",
    "    points.append(Point())\n",
    "\n",
    "n1 = Neuron()\n",
    "print(\"Initial Weights: \", n1.weights)\n",
    "window = Tk()\n",
    "window.title(\"Forays Workshop\")\n",
    "canvas = Canvas(window, width=700, height=700, bg=\"white\")\n",
    "canvas.pack()\n",
    "frame = Frame(window)\n",
    "frame.pack()\n",
    "\n",
    "p1 = Point(-1, f(-1))\n",
    "p2 = Point(1,f(1))\n",
    "# canvas.create_line(p1.pixelX(), p1.pixelY(), p2.pixelX(), p2.pixelY(), tags=\"line1\")\n",
    "\n",
    "for pt in points:\n",
    "    px = pt.pixelX()\n",
    "    py = pt.pixelY()\n",
    "    if pt.label == -1:\n",
    "        canvas.create_oval(px, py, px+12, py+12, fill=\"skyblue\")\n",
    "    else:\n",
    "        canvas.create_oval(px, py, px+12, py+12, fill=\"orange\")\n",
    "    #canvas.after(10)\n",
    "    canvas.update()\n",
    "prev_w1 = 0\n",
    "prev_w2 = 0   \n",
    "count = 1 \n",
    "while(prev_w1 != n1.weights[0] and prev_w2 != n1.weights[1]):\n",
    "#for i in range(20):\n",
    "    prev_w1 = n1.weights[0]\n",
    "    prev_w2 = n1.weights[1]\n",
    "    for pt in points:\n",
    "        inputs = [pt.x, pt.y, 1] # 1 is for bias\n",
    "        n1.train(inputs, pt.label)\n",
    "        est = n1.estimate(inputs)\n",
    "        px = pt.pixelX()\n",
    "        py = pt.pixelY()\n",
    "        if est == pt.label:\n",
    "            canvas.create_oval(px+3, py+3,px+9, py+9, fill=\"green\")\n",
    "        else:\n",
    "            canvas.create_oval(px+3, py+3, px+9, py+9, fill=\"red\")\n",
    "        canvas.after(5)\n",
    "        canvas.update()\n",
    "        canvas.delete(\"line\")\n",
    "        p3 = Point(-1, n1.estimate_y(-1))\n",
    "        p4 = Point(1, n1.estimate_y(1))\n",
    "        canvas.create_line(p3.pixelX(), p3.pixelY(), p4.pixelX(), p4.pixelY(), width=3, tags=\"line\", fill=\"#9d44a3\")\n",
    "    print(\"Pass-\",count,\": Weights updated : \", n1.weights)\n",
    "    count += 1\n",
    "# p3 = Point(-1, n1.estimate_y(-1))\n",
    "# p4 = Point(1, n1.estimate_y(1))\n",
    "# canvas.create_line(p3.pixelX(), p3.pixelY(), p4.pixelX(), p4.pixelY(), width=3, tags=\"line\", fill=\"#9d44a3\")\n",
    "print(\"Finished!\")\n",
    "window.mainloop()"
   ]
  },
  {
   "attachments": {},
   "cell_type": "markdown",
   "metadata": {},
   "source": [
    "# Function approximations"
   ]
  },
  {
   "attachments": {},
   "cell_type": "markdown",
   "metadata": {},
   "source": [
    "## ANN for function approximation\n",
    "\n",
    "No activation function applied on output layer"
   ]
  },
  {
   "cell_type": "code",
   "execution_count": 26,
   "metadata": {},
   "outputs": [],
   "source": [
    "import numpy as np\n",
    "import scipy.special\n",
    "\n",
    "class neuralNetwork:\n",
    "    def __init__(self, inputs, hiddens, outputs, learningRate = 0.1):\n",
    "        ## set number of nodes in input, hidden, output layers\n",
    "        self.inputNodes = inputs\n",
    "        self.hiddenNodes = hiddens\n",
    "        self.outputNodes = outputs\n",
    "\n",
    "        ## set learning rate\n",
    "        self.learningRate = learningRate\n",
    "\n",
    "        ## set Weight matrices for input to hidden and hidden to output layer\n",
    "        self.weights_ih = 2*np.random.rand(self.hiddenNodes, self.inputNodes) - 1\n",
    "        self.weights_ho = 2*np.random.rand(self.outputNodes, self.hiddenNodes) - 1\n",
    "\n",
    "        ## set weights for bias\n",
    "        self.bias_h = 2*np.random.rand(self.hiddenNodes, 1) - 1\n",
    "\n",
    "        ## set default activation function and its derivative\n",
    "        self.activation_function = self.sigmoid \n",
    "        self.d_activation_function = self.dsigmoid\n",
    "\n",
    "        ## keep output errors\n",
    "        self.output_errors = 0\n",
    "\n",
    "    def sigmoid(self, x):\n",
    "        self.d_activation_function = self.dsigmoid\n",
    "        return scipy.special.expit(x)\n",
    "    \n",
    "    def dsigmoid(self, x):\n",
    "        return x*(1-x)\n",
    "\n",
    "    def ReLU(self,x):\n",
    "        self.d_activation_function = self.d_ReLU\n",
    "        return np.maximum(0,x)\n",
    "\n",
    "    def d_ReLU(self, x):\n",
    "        return x > 0\n",
    "\n",
    "    def sign(self, x):\n",
    "        self.d_activation_function = self.d_sign\n",
    "        return np.sign(x)\n",
    "\n",
    "    def d_sign(self,x):\n",
    "        return 1\n",
    "\n",
    "    def feedforward(self, input_list, activation_function=None):\n",
    "        if activation_function is None:\n",
    "            self.activation_function = self.sigmoid\n",
    "        else:\n",
    "            self.activation_function = activation_function\n",
    "            \n",
    "        ## convert input_list to 2D array\n",
    "        inputs = np.array(input_list, ndmin=2).T\n",
    "\n",
    "        ## find inputs into hidden layer\n",
    "        hidden_inputs = np.matmul(self.weights_ih, inputs) + self.bias_h\n",
    "\n",
    "        ## find outputs from the hidden layer\n",
    "        hidden_outputs = self.activation_function(hidden_inputs)\n",
    "\n",
    "        ## find outputs from the final output layer\n",
    "        final_outputs = np.matmul(self.weights_ho, hidden_outputs)\n",
    "\n",
    "        return final_outputs\n",
    "    \n",
    "    def train(self, input_list, target_list, activation_function=None):\n",
    "        if activation_function is None:\n",
    "            self.activation_function = self.sigmoid\n",
    "        else:\n",
    "            self.activation_function = activation_function\n",
    "            \n",
    "        ## convert input_list to 2D array\n",
    "        inputs = np.array(input_list, ndmin=2).T\n",
    "        targets = np.array(target_list, ndmin=2).T\n",
    "\n",
    "        ## find inputs into hidden layer\n",
    "        hidden_inputs = np.matmul(self.weights_ih, inputs) + self.bias_h\n",
    "\n",
    "        ## find outputs from the hidden layer\n",
    "        hidden_outputs = self.activation_function(hidden_inputs)\n",
    "\n",
    "        ## find outputs from the final output layer\n",
    "        final_outputs = np.matmul(self.weights_ho, hidden_outputs)\n",
    "\n",
    "        ## find output errors and hidden errors \n",
    "        self.output_errors = targets - final_outputs\n",
    "        hidden_errors = np.matmul(self.weights_ho.T, self.output_errors)\n",
    "\n",
    "        ## find gradient\n",
    "        gradients = self.d_activation_function(final_outputs)\n",
    "        hidden_gradients = self.d_activation_function(hidden_outputs)\n",
    "        \n",
    "        ## update weights on links\n",
    "        self.weights_ho += np.matmul(self.learningRate*self.output_errors*gradients, hidden_outputs.T)\n",
    "        self.weights_ih += np.matmul(self.learningRate*hidden_errors*hidden_gradients, inputs.T)\n",
    "\n",
    "        ## update bias\n",
    "        self.bias_h += self.learningRate*hidden_errors*hidden_gradients\n"
   ]
  },
  {
   "attachments": {},
   "cell_type": "markdown",
   "metadata": {},
   "source": [
    "## Test Case-1:"
   ]
  },
  {
   "cell_type": "code",
   "execution_count": 27,
   "metadata": {},
   "outputs": [
    {
     "name": "stdout",
     "output_type": "stream",
     "text": [
      "[[0.09396862]]\n",
      "[[0.9934691]]\n"
     ]
    }
   ],
   "source": [
    "import numpy as np\n",
    "import matplotlib.pyplot as plt\n",
    "%matplotlib inline\n",
    "\n",
    "## number of input, hidden and output nodes\n",
    "input_nodes = 1\n",
    "hidden_nodes = 100\n",
    "output_nodes = 1\n",
    "learning_rate = 0.0001\n",
    "\n",
    "## create instance of neural network\n",
    "n = neuralNetwork(input_nodes,hidden_nodes,output_nodes, learning_rate)\n",
    "\n",
    "data = np.linspace(-2, 2, 21)\n",
    "target = data**2\n",
    "epochs = 30000\n",
    "for e in range(epochs):\n",
    "    for i in range(len(data)):\n",
    "        n.train(data[i], target[i], n.ReLU)\n",
    "        \n",
    "print(n.output_errors)\n",
    "print(n.feedforward([1], n.ReLU))"
   ]
  },
  {
   "cell_type": "code",
   "execution_count": 28,
   "metadata": {},
   "outputs": [
    {
     "data": {
      "image/png": "[encoded data removed]",
      "text/plain": [
       "<Figure size 432x288 with 1 Axes>"
      ]
     },
     "metadata": {
      "needs_background": "light"
     },
     "output_type": "display_data"
    },
    {
     "name": "stdout",
     "output_type": "stream",
     "text": [
      "error in results :  0.3457514453504667\n"
     ]
    }
   ],
   "source": [
    "test_data = np.linspace(-2, 2, 101)\n",
    "correct_answers = test_data**2\n",
    "results = []\n",
    "for t in test_data:\n",
    "    results.append(n.feedforward(t, n.ReLU)[0][0])\n",
    "\n",
    "plt.plot(test_data, results, 'o')\n",
    "plt.plot(test_data, correct_answers)\n",
    "plt.show()\n",
    "print(\"error in results : \", np.linalg.norm(results-correct_answers,2))"
   ]
  },
  {
   "attachments": {},
   "cell_type": "markdown",
   "metadata": {},
   "source": [
    "## Test Case - 2"
   ]
  },
  {
   "cell_type": "code",
   "execution_count": 29,
   "metadata": {},
   "outputs": [],
   "source": [
    "import numpy as np\n",
    "import matplotlib.pyplot as plt\n",
    "%matplotlib inline\n",
    "\n",
    "## number of input, hidden and output nodes\n",
    "input_nodes = 1\n",
    "hidden_nodes = 100\n",
    "output_nodes = 1\n",
    "learning_rate = 0.001\n",
    "\n",
    "## create instance of neural network\n",
    "n = neuralNetwork(input_nodes,hidden_nodes,output_nodes, learning_rate)\n",
    "\n",
    "data = np.linspace(-2, 2, 301)\n",
    "x = data\n",
    "target = (x+1)**2*(x-1)\n",
    "epochs = 5000\n",
    "for e in range(epochs):\n",
    "    for i in range(len(data)):\n",
    "        n.train(data[i], target[i], n.ReLU)\n",
    "        \n",
    "print(n.output_errors)\n",
    "print(n.feedforward([1], n.ReLU))"
   ]
  },
  {
   "cell_type": "code",
   "execution_count": null,
   "metadata": {},
   "outputs": [],
   "source": [
    "test_data = np.linspace(-2, 2, 51)\n",
    "x = test_data\n",
    "correct_answers = (x+1)**2*(x-1)\n",
    "results = []\n",
    "for t in test_data:\n",
    "    results.append(n.feedforward(t, n.ReLU)[0][0])\n",
    "\n",
    "plt.plot(test_data, results, 'o')\n",
    "plt.plot(test_data, correct_answers)\n",
    "plt.show()\n",
    "print(\"error in results : \", np.linalg.norm(results-correct_answers,2))"
   ]
  },
  {
   "cell_type": "markdown",
   "metadata": {},
   "source": []
  }
 ],
 "metadata": {
  "kernelspec": {
   "display_name": "base",
   "language": "python",
   "name": "python3"
  },
  "language_info": {
   "codemirror_mode": {
    "name": "ipython",
    "version": 3
   },
   "file_extension": ".py",
   "mimetype": "text/x-python",
   "name": "python",
   "nbconvert_exporter": "python",
   "pygments_lexer": "ipython3",
   "version": "3.8.5"
  },
  "orig_nbformat": 4,
  "vscode": {
   "interpreter": {
    "hash": "f4a5bc080b77518b2aae03fdb0f4cd996325a7bd2741534501da7980339d1342"
   }
  }
 },
 "nbformat": 4,
 "nbformat_minor": 2
}
